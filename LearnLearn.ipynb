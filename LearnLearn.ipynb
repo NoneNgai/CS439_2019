{
 "cells": [
  {
   "cell_type": "markdown",
   "metadata": {},
   "source": [
    "# Numpy"
   ]
  },
  {
   "cell_type": "code",
   "execution_count": 1,
   "metadata": {},
   "outputs": [],
   "source": [
    "import numpy as np"
   ]
  },
  {
   "cell_type": "markdown",
   "metadata": {},
   "source": [
    "# Masking"
   ]
  },
  {
   "cell_type": "code",
   "execution_count": 2,
   "metadata": {},
   "outputs": [],
   "source": [
    "import numpy as np"
   ]
  },
  {
   "cell_type": "code",
   "execution_count": 3,
   "metadata": {},
   "outputs": [
    {
     "name": "stdout",
     "output_type": "stream",
     "text": [
      "altgraph==0.10.2\r\n",
      "bdist-mpkg==0.5.0\r\n",
      "bonjour-py==0.3\r\n",
      "macholib==1.5.1\r\n",
      "matplotlib==1.3.1\r\n",
      "modulegraph==0.10.4\r\n",
      "numpy==1.8.0rc1\r\n",
      "py2app==0.7.3\r\n",
      "pyobjc-core==2.5.1\r\n",
      "pyobjc-framework-Accounts==2.5.1\r\n",
      "pyobjc-framework-AddressBook==2.5.1\r\n",
      "pyobjc-framework-AppleScriptKit==2.5.1\r\n",
      "pyobjc-framework-AppleScriptObjC==2.5.1\r\n",
      "pyobjc-framework-Automator==2.5.1\r\n",
      "pyobjc-framework-CFNetwork==2.5.1\r\n",
      "pyobjc-framework-Cocoa==2.5.1\r\n",
      "pyobjc-framework-Collaboration==2.5.1\r\n",
      "pyobjc-framework-CoreData==2.5.1\r\n",
      "pyobjc-framework-CoreLocation==2.5.1\r\n",
      "pyobjc-framework-CoreText==2.5.1\r\n",
      "pyobjc-framework-DictionaryServices==2.5.1\r\n",
      "pyobjc-framework-EventKit==2.5.1\r\n",
      "pyobjc-framework-ExceptionHandling==2.5.1\r\n",
      "pyobjc-framework-FSEvents==2.5.1\r\n",
      "pyobjc-framework-InputMethodKit==2.5.1\r\n",
      "pyobjc-framework-InstallerPlugins==2.5.1\r\n",
      "pyobjc-framework-InstantMessage==2.5.1\r\n",
      "pyobjc-framework-LatentSemanticMapping==2.5.1\r\n",
      "pyobjc-framework-LaunchServices==2.5.1\r\n",
      "pyobjc-framework-Message==2.5.1\r\n",
      "pyobjc-framework-OpenDirectory==2.5.1\r\n",
      "pyobjc-framework-PreferencePanes==2.5.1\r\n",
      "pyobjc-framework-PubSub==2.5.1\r\n",
      "pyobjc-framework-QTKit==2.5.1\r\n",
      "pyobjc-framework-Quartz==2.5.1\r\n",
      "pyobjc-framework-ScreenSaver==2.5.1\r\n",
      "pyobjc-framework-ScriptingBridge==2.5.1\r\n",
      "pyobjc-framework-SearchKit==2.5.1\r\n",
      "pyobjc-framework-ServiceManagement==2.5.1\r\n",
      "pyobjc-framework-Social==2.5.1\r\n",
      "pyobjc-framework-SyncServices==2.5.1\r\n",
      "pyobjc-framework-SystemConfiguration==2.5.1\r\n",
      "pyobjc-framework-WebKit==2.5.1\r\n",
      "pyOpenSSL==0.13.1\r\n",
      "pyparsing==2.0.1\r\n",
      "python-dateutil==1.5\r\n",
      "pytz==2013.7\r\n",
      "scipy==0.13.0b1\r\n",
      "six==1.4.1\r\n",
      "xattr==0.6.4\r\n"
     ]
    }
   ],
   "source": [
    "!pip freeze"
   ]
  },
  {
   "cell_type": "code",
   "execution_count": null,
   "metadata": {},
   "outputs": [],
   "source": []
  }
 ],
 "metadata": {
  "kernelspec": {
   "display_name": "Python 3",
   "language": "python",
   "name": "python3"
  },
  "language_info": {
   "codemirror_mode": {
    "name": "ipython",
    "version": 3
   },
   "file_extension": ".py",
   "mimetype": "text/x-python",
   "name": "python",
   "nbconvert_exporter": "python",
   "pygments_lexer": "ipython3",
   "version": "3.7.2"
  }
 },
 "nbformat": 4,
 "nbformat_minor": 2
}
